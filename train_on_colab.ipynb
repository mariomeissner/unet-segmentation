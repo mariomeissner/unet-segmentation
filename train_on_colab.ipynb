{
 "cells": [
  {
   "cell_type": "code",
   "execution_count": 2,
   "metadata": {
    "id": "sd8qMv3j8iwT",
    "colab_type": "code",
    "colab": {},
    "collapsed": true
   },
   "outputs": [
    {
     "name": "stdout",
     "output_type": "stream",
     "text": [
      "Requirement already satisfied: imageio in c:\\users\\mario\\miniconda3\\envs\\machine_learning\\lib\\site-packages (2.4.1)\nRequirement already satisfied: numpy in c:\\users\\mario\\miniconda3\\envs\\machine_learning\\lib\\site-packages (from imageio) (1.15.2)\nRequirement already satisfied: pillow in c:\\users\\mario\\miniconda3\\envs\\machine_learning\\lib\\site-packages (from imageio) (5.3.0)\n"
     ]
    },
    {
     "name": "stderr",
     "output_type": "stream",
     "text": [
      "mkl-random 1.0.1 requires cython, which is not installed.\ntensorflow 1.11.0 has requirement setuptools<=39.1.0, but you'll have setuptools 40.4.3 which is incompatible.\nYou are using pip version 10.0.1, however version 18.1 is available.\nYou should consider upgrading via the 'python -m pip install --upgrade pip' command.\n"
     ]
    }
   ],
   "source": [
    "#!apt-get install graphviz\n",
    "#!pip install graphviz pydot\n",
    "!pip install imageio"
   ]
  },
  {
   "cell_type": "code",
   "execution_count": 1,
   "metadata": {
    "id": "Gh5zY9WR1P03",
    "colab_type": "code",
    "colab": {},
    "collapsed": true
   },
   "outputs": [
    {
     "name": "stderr",
     "output_type": "stream",
     "text": [
      "Using TensorFlow backend.\n"
     ]
    }
   ],
   "source": [
    "# Imports \n",
    "import numpy as np \n",
    "import os\n",
    "import skimage.transform as trans\n",
    "import matplotlib.pyplot as plt\n",
    "from keras.models import *\n",
    "from keras.layers import *\n",
    "from keras.optimizers import *\n",
    "from keras.callbacks import ModelCheckpoint, LearningRateScheduler\n",
    "from keras.preprocessing.image import ImageDataGenerator\n",
    "from keras import backend\n",
    "from keras.utils import plot_model\n",
    "\n",
    "from imageio import imread, imwrite\n",
    "from skimage import transform"
   ]
  },
  {
   "cell_type": "code",
   "execution_count": 2,
   "metadata": {},
   "outputs": [],
   "source": [
    "USE_DRIVE = False\n",
    "if(USE_DRIVE):\n",
    "    from google.colab import drive\n",
    "    folder = '/content/gdrive/My Drive/Projects/datasets/steven2358-larynx_data/'\n",
    "    drive.mount('/content/gdrive')\n",
    "else:\n",
    "    folder = 'your local dataset folder here'"
   ]
  },
  {
   "cell_type": "code",
   "execution_count": 3,
   "metadata": {
    "id": "Tcs5pZF8-bAX",
    "colab_type": "code",
    "colab": {}
   },
   "outputs": [],
   "source": [
    "def plot_metrics(history):\n",
    "  # summarize history for accuracy\n",
    "  plt.plot(history.history['acc'])\n",
    "  #plt.plot(history.history['val_acc'])\n",
    "  plt.title('model accuracy')\n",
    "  plt.ylabel('accuracy')\n",
    "  plt.xlabel('epoch')\n",
    "  #plt.legend(['train', 'test'], loc='upper left')\n",
    "  plt.show()\n",
    "  # summarize history for loss\n",
    "  plt.plot(history.history['loss'])\n",
    "  #plt.plot(history.history['val_loss'])\n",
    "  plt.title('model loss')\n",
    "  plt.ylabel('loss')\n",
    "  plt.xlabel('epoch')\n",
    "  #plt.legend(['train', 'test'], loc='upper left')\n",
    "  plt.show()"
   ]
  },
  {
   "cell_type": "code",
   "execution_count": 0,
   "metadata": {
    "id": "dqA3BIpx3E9x",
    "colab_type": "code",
    "colab": {}
   },
   "outputs": [],
   "source": [
    ""
   ]
  },
  {
   "cell_type": "code",
   "execution_count": 5,
   "metadata": {
    "id": "HtdaK9zTw5kd",
    "colab_type": "code",
    "outputId": "45bec07d-874c-40a5-cf2c-70d3473dbb04",
    "colab": {
     "base_uri": "https://localhost:8080/",
     "height": 90.0
    },
    "collapsed": true
   },
   "outputs": [
    {
     "ename": "FileNotFoundError",
     "evalue": "[WinError 3] The system cannot find the path specified: 'your local dataset folder hereimages_cropped/images/'",
     "traceback": [
      "\u001b[1;31m---------------------------------------------------------------------------\u001b[0m",
      "\u001b[1;31mFileNotFoundError\u001b[0m                         Traceback (most recent call last)",
      "\u001b[1;32m<ipython-input-5-a309ba686f89>\u001b[0m in \u001b[0;36m<module>\u001b[1;34m\u001b[0m\n\u001b[0;32m      1\u001b[0m \u001b[0mimages\u001b[0m \u001b[1;33m=\u001b[0m \u001b[0mnp\u001b[0m\u001b[1;33m.\u001b[0m\u001b[0mzeros\u001b[0m\u001b[1;33m(\u001b[0m\u001b[1;33m(\u001b[0m\u001b[1;36m154\u001b[0m\u001b[1;33m,\u001b[0m\u001b[1;36m160\u001b[0m\u001b[1;33m,\u001b[0m\u001b[1;36m240\u001b[0m\u001b[1;33m,\u001b[0m\u001b[1;36m3\u001b[0m\u001b[1;33m)\u001b[0m\u001b[1;33m,\u001b[0m \u001b[0mdtype\u001b[0m\u001b[1;33m=\u001b[0m\u001b[0mnp\u001b[0m\u001b[1;33m.\u001b[0m\u001b[0muint8\u001b[0m\u001b[1;33m)\u001b[0m\u001b[1;33m\u001b[0m\u001b[0m\n\u001b[1;32m----> 2\u001b[1;33m \u001b[1;32mfor\u001b[0m \u001b[0mi\u001b[0m\u001b[1;33m,\u001b[0m\u001b[0mfilename\u001b[0m \u001b[1;32min\u001b[0m \u001b[0menumerate\u001b[0m\u001b[1;33m(\u001b[0m\u001b[0msorted\u001b[0m\u001b[1;33m(\u001b[0m\u001b[0mos\u001b[0m\u001b[1;33m.\u001b[0m\u001b[0mlistdir\u001b[0m\u001b[1;33m(\u001b[0m\u001b[0mfolder\u001b[0m \u001b[1;33m+\u001b[0m \u001b[1;34m'images_cropped/images/'\u001b[0m\u001b[1;33m)\u001b[0m\u001b[1;33m)\u001b[0m\u001b[1;33m)\u001b[0m\u001b[1;33m:\u001b[0m\u001b[1;33m\u001b[0m\u001b[0m\n\u001b[0m\u001b[0;32m      3\u001b[0m   \u001b[0mimages\u001b[0m\u001b[1;33m[\u001b[0m\u001b[0mi\u001b[0m\u001b[1;33m,\u001b[0m\u001b[1;33m:\u001b[0m\u001b[1;33m,\u001b[0m\u001b[1;33m:\u001b[0m\u001b[1;33m,\u001b[0m\u001b[1;33m:\u001b[0m\u001b[1;33m]\u001b[0m \u001b[1;33m=\u001b[0m \u001b[0mimread\u001b[0m\u001b[1;33m(\u001b[0m\u001b[0mfolder\u001b[0m \u001b[1;33m+\u001b[0m \u001b[1;34m'images_cropped/images/'\u001b[0m \u001b[1;33m+\u001b[0m \u001b[0mfilename\u001b[0m\u001b[1;33m,\u001b[0m \u001b[0mpilmode\u001b[0m\u001b[1;33m=\u001b[0m\u001b[1;34m'RGB'\u001b[0m\u001b[1;33m)\u001b[0m\u001b[1;33m\u001b[0m\u001b[0m\n\u001b[0;32m      4\u001b[0m \u001b[0mprint\u001b[0m\u001b[1;33m(\u001b[0m\u001b[1;34m\"loaded images\"\u001b[0m\u001b[1;33m)\u001b[0m\u001b[1;33m\u001b[0m\u001b[0m\n\u001b[0;32m      5\u001b[0m \u001b[1;31m#images = (images - images.mean()) / images.std()\u001b[0m\u001b[1;33m\u001b[0m\u001b[1;33m\u001b[0m\u001b[0m\n",
      "\u001b[1;31mFileNotFoundError\u001b[0m: [WinError 3] The system cannot find the path specified: 'your local dataset folder hereimages_cropped/images/'"
     ],
     "output_type": "error"
    }
   ],
   "source": [
    "images = np.zeros((154,160,240,3), dtype=np.uint8)\n",
    "for i,filename in enumerate(sorted(os.listdir(folder + 'images_cropped/images/'))):\n",
    "  images[i,:,:,:] = imread(folder + 'images_cropped/images/' + filename, pilmode='RGB')\n",
    "print(\"loaded images\")\n",
    "#images = (images - images.mean()) / images.std()\n",
    "print(images.shape)\n",
    "\n",
    "labels = np.zeros((154,160,240,3), dtype=np.uint8)\n",
    "for i,filename in enumerate(sorted(os.listdir(folder + 'labels_cropped/labels/'))):\n",
    "  labels[i,:,:,:] = imread(folder + 'labels_cropped/labels/' + filename, pilmode='RGB')\n",
    "print(\"loaded labels\")\n",
    "#labels = labels / 255\n",
    "print(labels.shape)"
   ]
  },
  {
   "cell_type": "code",
   "execution_count": 4,
   "metadata": {
    "id": "6dqVQMlK17q6",
    "colab_type": "code",
    "colab": {}
   },
   "outputs": [
    {
     "ename": "NameError",
     "evalue": "name 'images' is not defined",
     "traceback": [
      "\u001b[1;31m---------------------------------------------------------------------------\u001b[0m",
      "\u001b[1;31mNameError\u001b[0m                                 Traceback (most recent call last)",
      "\u001b[1;32m<ipython-input-4-fdffe318fec7>\u001b[0m in \u001b[0;36m<module>\u001b[1;34m\u001b[0m\n\u001b[0;32m      1\u001b[0m \u001b[1;31m#Ver que pinta tienen estos arrays:\u001b[0m\u001b[1;33m\u001b[0m\u001b[1;33m\u001b[0m\u001b[0m\n\u001b[1;32m----> 2\u001b[1;33m \u001b[0mprint\u001b[0m\u001b[1;33m(\u001b[0m\u001b[0mimages\u001b[0m\u001b[1;33m[\u001b[0m\u001b[1;36m3\u001b[0m\u001b[1;33m]\u001b[0m\u001b[1;33m[\u001b[0m\u001b[1;36m100\u001b[0m\u001b[1;33m]\u001b[0m\u001b[1;33m[\u001b[0m\u001b[1;36m120\u001b[0m\u001b[1;33m:\u001b[0m\u001b[1;36m140\u001b[0m\u001b[1;33m]\u001b[0m\u001b[1;33m)\u001b[0m\u001b[1;33m\u001b[0m\u001b[0m\n\u001b[0m\u001b[0;32m      3\u001b[0m \u001b[0mprint\u001b[0m\u001b[1;33m(\u001b[0m\u001b[0mlabels\u001b[0m\u001b[1;33m[\u001b[0m\u001b[1;36m3\u001b[0m\u001b[1;33m]\u001b[0m\u001b[1;33m[\u001b[0m\u001b[1;36m100\u001b[0m\u001b[1;33m]\u001b[0m\u001b[1;33m[\u001b[0m\u001b[1;36m120\u001b[0m\u001b[1;33m:\u001b[0m\u001b[1;36m140\u001b[0m\u001b[1;33m]\u001b[0m\u001b[1;33m)\u001b[0m\u001b[1;33m\u001b[0m\u001b[0m\n",
      "\u001b[1;31mNameError\u001b[0m: name 'images' is not defined"
     ],
     "output_type": "error"
    }
   ],
   "source": [
    "#Ver que pinta tienen estos arrays:\n",
    "print(images[3][100][120:140])\n",
    "print(labels[3][100][120:140])"
   ]
  },
  {
   "cell_type": "code",
   "execution_count": 0,
   "metadata": {
    "id": "ZmXhOMuJ4LH8",
    "colab_type": "code",
    "colab": {}
   },
   "outputs": [],
   "source": [
    "# Alternativa con un generador\n",
    "data_gen_args = dict(\n",
    "    rotation_range = 5,\n",
    "    width_shift_range = 5,\n",
    "    height_shift_range = 5,\n",
    "    horizontal_flip = True,\n",
    "    zoom_range = 0.05,\n",
    "    data_format = 'channels_last',\n",
    "    #validation_split = 0.2,\n",
    ")\n",
    "\n",
    "image_datagen = ImageDataGenerator(**data_gen_args)\n",
    "label_datagen = ImageDataGenerator(**data_gen_args)\n"
   ]
  },
  {
   "cell_type": "code",
   "execution_count": 0,
   "metadata": {
    "id": "pMk8UX2xfKCj",
    "colab_type": "code",
    "colab": {}
   },
   "outputs": [],
   "source": [
    "image_gen = image_datagen.flow(images, seed = 1, batch_size=8, shuffle=False)\n",
    "label_gen = label_datagen.flow(labels, seed = 1, batch_size=8, shuffle=False)\n",
    "train_gen = zip(image_gen, label_gen)"
   ]
  },
  {
   "cell_type": "code",
   "execution_count": 0,
   "metadata": {
    "id": "WZBpYgxX5BvQ",
    "colab_type": "code",
    "colab": {}
   },
   "outputs": [],
   "source": [
    "# Check that original images and labels match up\n",
    "position = 55\n",
    "plt.imshow(images[position])\n",
    "plt.show()\n",
    "plt.imshow(labels[position])\n",
    "plt.show()"
   ]
  },
  {
   "cell_type": "code",
   "execution_count": 0,
   "metadata": {
    "id": "J_-Xr4Ae-0nt",
    "colab_type": "code",
    "colab": {}
   },
   "outputs": [],
   "source": [
    "# Check that augmented images and labels match up\n",
    "image_test, label_test = next(train_gen)\n",
    "image_test, label_test = image_test / 255, label_test / 255\n",
    "print(image_test[0].dtype)\n",
    "print(image_test[0][100][100])\n",
    "print(label_test[0].dtype)\n",
    "print(label_test[0][100][100])\n",
    "plt.imshow(image_test[0])\n",
    "plt.show()\n",
    "plt.imshow(label_test[0])\n",
    "plt.show()"
   ]
  },
  {
   "cell_type": "code",
   "execution_count": 0,
   "metadata": {
    "id": "imppX0AzyEHg",
    "colab_type": "code",
    "colab": {}
   },
   "outputs": [],
   "source": [
    "checkpoint = ModelCheckpoint(folder + 'unet_checkpoint.hdf5', \n",
    "                             monitor='accuracy',\n",
    "                             verbose=1, \n",
    "                             save_best_only=True)"
   ]
  },
  {
   "cell_type": "code",
   "execution_count": 0,
   "metadata": {
    "id": "MY_4FQFNyoqw",
    "colab_type": "code",
    "colab": {}
   },
   "outputs": [],
   "source": [
    "model = unet(input_size=(160,240,3))\n",
    "#plot_model(model, to_file=\"model.png\")"
   ]
  },
  {
   "cell_type": "code",
   "execution_count": 0,
   "metadata": {
    "id": "5__ZWWIZzevO",
    "colab_type": "code",
    "colab": {}
   },
   "outputs": [],
   "source": [
    "# Fit numpy arrays\n",
    "# model.fit(images, labels, epochs=5, batch_size=1, callbacks=[checkpoint], validation_split=0.2, shuffle=True)"
   ]
  },
  {
   "cell_type": "code",
   "execution_count": 0,
   "metadata": {
    "id": "gWKV2TQWVA1v",
    "colab_type": "code",
    "colab": {}
   },
   "outputs": [],
   "source": [
    "model.compile(optimizer = Adam(lr = 1e-4), loss = 'categorical_crossentropy', metrics = ['accuracy'])"
   ]
  },
  {
   "cell_type": "code",
   "execution_count": 0,
   "metadata": {
    "id": "KTSW79ylMomO",
    "colab_type": "code",
    "colab": {}
   },
   "outputs": [],
   "source": [
    "# Fit the generator\n",
    "history = model.fit_generator(train_gen, \n",
    "                              steps_per_epoch=154//8,\n",
    "                              epochs = 10,\n",
    "                              callbacks = [checkpoint],\n",
    "                              )\n",
    "plot_metrics(history)"
   ]
  },
  {
   "cell_type": "code",
   "execution_count": 0,
   "metadata": {
    "id": "JH7QH2QoWBrD",
    "colab_type": "code",
    "colab": {}
   },
   "outputs": [],
   "source": [
    "model.save(folder + 'unet.hdf5')"
   ]
  },
  {
   "cell_type": "code",
   "execution_count": 0,
   "metadata": {
    "id": "VWE98yv0gowZ",
    "colab_type": "code",
    "colab": {}
   },
   "outputs": [],
   "source": [
    "image, label = next(train_gen)\n",
    "predicted = model.predict(image[0:1,:,:,:])\n",
    "print(image[0].shape)\n",
    "imwrite(folder + 'predicted.png', predicted[0])\n",
    "imwrite(folder + 'image.png', image[0])\n",
    "imwrite(folder + 'label.png', label[0])\n"
   ]
  }
 ],
 "metadata": {
  "colab": {
   "name": "unet_segmentation.ipynb",
   "version": "0.3.2",
   "provenance": [],
   "collapsed_sections": []
  },
  "kernelspec": {
   "name": "python3",
   "display_name": "Python 3"
  },
  "accelerator": "GPU"
 },
 "nbformat": 4,
 "nbformat_minor": 0
}
