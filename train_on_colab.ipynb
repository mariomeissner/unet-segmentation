{
  "nbformat": 4,
  "nbformat_minor": 0,
  "metadata": {
    "colab": {
      "name": "unet_segmentation.ipynb",
      "version": "0.3.2",
      "provenance": [],
      "collapsed_sections": []
    },
    "kernelspec": {
      "name": "python3",
      "display_name": "Python 3"
    },
    "accelerator": "GPU"
  },
  "cells": [
    {
      "cell_type": "code",
      "metadata": {
        "id": "sd8qMv3j8iwT",
        "colab_type": "code",
        "colab": {}
      },
      "source": [
        "# Installation of dependencies \n",
        "!pip install imageio\n",
        "!pip install -U tensorboardcolab\n",
        "!rm -rf ./unet\n",
        "!git clone https://github.com/mariomeissner/unet-segmentation.git ./unet\n",
        "!mv ./unet/* .\n",
        "# Optinal for graph plotting\n",
        "#!apt-get install graphviz\n",
        "#!pip install graphviz pydot\n"
      ],
      "execution_count": 0,
      "outputs": []
    },
    {
      "cell_type": "code",
      "metadata": {
        "id": "Gh5zY9WR1P03",
        "colab_type": "code",
        "colab": {}
      },
      "source": [
        "# Imports \n",
        "import numpy as np \n",
        "import os\n",
        "import skimage.transform as trans\n",
        "import matplotlib.pyplot as plt\n",
        "import model as unet_model\n",
        "from keras.models import *\n",
        "from keras.layers import *\n",
        "from keras.optimizers import *\n",
        "from keras.callbacks import ModelCheckpoint, LearningRateScheduler\n",
        "from keras.metrics import categorical_accuracy\n",
        "from keras.preprocessing.image import ImageDataGenerator\n",
        "from tensorboardcolab import TensorBoardColab, TensorBoardColabCallback\n",
        "from keras import backend\n",
        "from keras.utils import plot_model\n",
        "from imageio import imread, imwrite\n",
        "from skimage import transform"
      ],
      "execution_count": 0,
      "outputs": []
    },
    {
      "cell_type": "code",
      "metadata": {
        "id": "Sw_EeXgmhVCo",
        "colab_type": "code",
        "colab": {}
      },
      "source": [
        "USE_DRIVE = True\n",
        "if(USE_DRIVE):\n",
        "    from google.colab import drive\n",
        "    folder = '/content/gdrive/My Drive/Projects/datasets/steven2358-larynx_data/'\n",
        "    drive.mount('/content/gdrive')\n",
        "else:\n",
        "    folder = 'your/local/dataset/folder/here'\n",
        "    \n",
        "# Hyperparameters\n",
        "num_images = 154"
      ],
      "execution_count": 0,
      "outputs": []
    },
    {
      "cell_type": "code",
      "metadata": {
        "id": "6YMcPZZtXIDI",
        "colab_type": "code",
        "colab": {}
      },
      "source": [
        "# Function for plotting model history\n",
        "def plot_history(history, metric):\n",
        "  plt.plot(history.history[metric])\n",
        "  plt.plot(history.history['val_'+metric])\n",
        "  plt.title('model ' + metric)\n",
        "  plt.ylabel(metric)\n",
        "  plt.xlabel('epoch')\n",
        "  plt.legend(['train', 'validation'], loc='upper left')\n",
        "  plt.show()\n",
        "  # summarize history for loss\n",
        "  plt.plot(history.history['loss'])\n",
        "  plt.plot(history.history['val_loss'])\n",
        "  plt.title('model loss')\n",
        "  plt.ylabel('loss')\n",
        "  plt.xlabel('epoch')\n",
        "  plt.legend(['train', 'validation'], loc='upper left')\n",
        "  plt.show()\n",
        "  \n",
        "  \n",
        "def plot_history_comparison(histories, labels, metric):  \n",
        "  for history,label in zip(histories,labels):\n",
        "    color = \"#{:06x}\".format(random.randint(0, 0xFFFFFF))\n",
        "    plt.plot(history.history[metric], label = metric + \": \" + label, color = color)\n",
        "    plt.plot(history.history['val_' + metric], label = metric + \": \" + label, color = color)\n",
        "    plt.title('model ' + metric)\n",
        "    plt.ylabel(metric)\n",
        "    plt.xlabel('epoch')\n",
        "    plt.legend()\n",
        "  plt.show()\n",
        "  for history,label in zip(histories,labels):\n",
        "    color = \"#{:06x}\".format(random.randint(0, 0xFFFFFF))\n",
        "    plt.plot(history.history['loss'], label = label + \": loss\", color = color)\n",
        "    plt.plot(history.history['val_loss'], label = label + \": val_loss\", color = color)\n",
        "    plt.title('model loss')\n",
        "    plt.ylabel('loss')\n",
        "    plt.xlabel('epoch')\n",
        "    plt.legend()\n",
        "  plt.show()"
      ],
      "execution_count": 0,
      "outputs": []
    },
    {
      "cell_type": "code",
      "metadata": {
        "id": "HtdaK9zTw5kd",
        "colab_type": "code",
        "colab": {}
      },
      "source": [
        "images = np.zeros((154,160,240,3), dtype=np.float32)\n",
        "for i,filename in enumerate(sorted(os.listdir(folder + 'images_cropped/images/'))):\n",
        "  images[i,:,:,:] = imread(folder + 'images_cropped/images/' + filename, pilmode='RGB')\n",
        "print(\"loaded images\")\n",
        "images = images / 255\n",
        "print(images.shape)\n",
        "\n",
        "labels = np.zeros((154,160,240,3), dtype=np.float32)\n",
        "for i,filename in enumerate(sorted(os.listdir(folder + 'labels_cropped/labels/'))):\n",
        "  labels[i,:,:,:] = imread(folder + 'labels_cropped/labels/' + filename, pilmode='RGB')\n",
        "print(\"loaded labels\")\n",
        "labels = labels / 255\n",
        "print(labels.shape)"
      ],
      "execution_count": 0,
      "outputs": []
    },
    {
      "cell_type": "code",
      "metadata": {
        "id": "6dqVQMlK17q6",
        "colab_type": "code",
        "colab": {}
      },
      "source": [
        "# Have a peek at what they look like\n",
        "# print(images[3][100][120:140])\n",
        "# print(labels[3][100][120:140])"
      ],
      "execution_count": 0,
      "outputs": []
    },
    {
      "cell_type": "code",
      "metadata": {
        "id": "aq1MrPKNEIzX",
        "colab_type": "code",
        "colab": {}
      },
      "source": [
        "# Shuffle images and labels and create test split\n",
        "num_test_images = 15\n",
        "num_val_images = 15\n",
        "num_train_images = num_images - (num_test_images + num_val_images)\n",
        "rng_state = np.random.get_state()\n",
        "np.random.shuffle(images)\n",
        "np.random.set_state(rng_state)\n",
        "np.random.shuffle(labels)\n",
        "images_test = images[:num_test_images]\n",
        "labels_test = labels[:num_test_images]\n",
        "images_val = images[-num_val_images:]\n",
        "labels_val = labels[-num_val_images:]\n",
        "images = images[num_test_images:-num_val_images]\n",
        "labels = labels[num_test_images:-num_val_images]"
      ],
      "execution_count": 0,
      "outputs": []
    },
    {
      "cell_type": "code",
      "metadata": {
        "id": "ZmXhOMuJ4LH8",
        "colab_type": "code",
        "colab": {}
      },
      "source": [
        "# Data augmentation\n",
        "\n",
        "data_gen_args = dict(\n",
        "    rotation_range = 5,\n",
        "    width_shift_range = 5,\n",
        "    height_shift_range = 5,\n",
        "    horizontal_flip = True,\n",
        "    zoom_range = 0.05,\n",
        "    data_format = 'channels_last',\n",
        ")\n",
        "\n",
        "image_datagen = ImageDataGenerator(**data_gen_args)\n",
        "label_datagen = ImageDataGenerator(**data_gen_args)\n"
      ],
      "execution_count": 0,
      "outputs": []
    },
    {
      "cell_type": "code",
      "metadata": {
        "id": "pMk8UX2xfKCj",
        "colab_type": "code",
        "colab": {}
      },
      "source": [
        "batch_size = 3\n",
        "image_gen = image_datagen.flow(images, seed = 1, batch_size=batch_size, shuffle=True)\n",
        "label_gen = label_datagen.flow(labels, seed = 1, batch_size=batch_size, shuffle=True)\n",
        "image_val = image_datagen.flow(images_val, seed = 1, batch_size=batch_size, shuffle=True)\n",
        "label_val = label_datagen.flow(labels_val, seed = 1, batch_size=batch_size, shuffle=True)\n",
        "train_gen = zip(image_gen, label_gen)\n",
        "val_gen   = zip(image_val, label_val)\n",
        "num_train_steps = num_train_images // batch_size\n",
        "num_val_steps = num_val_images // batch_size"
      ],
      "execution_count": 0,
      "outputs": []
    },
    {
      "cell_type": "code",
      "metadata": {
        "id": "WZBpYgxX5BvQ",
        "colab_type": "code",
        "colab": {}
      },
      "source": [
        "# Check that original images and labels match up\n",
        "position = 55\n",
        "plt.imshow(images[position])\n",
        "plt.show()\n",
        "plt.imshow(labels[position])\n",
        "plt.show()"
      ],
      "execution_count": 0,
      "outputs": []
    },
    {
      "cell_type": "code",
      "metadata": {
        "id": "J_-Xr4Ae-0nt",
        "colab_type": "code",
        "colab": {}
      },
      "source": [
        "# Check that augmented images and labels match up\n",
        "image_test, label_test = next(train_gen)\n",
        "image_test, label_test = image_test[0], label_test[0]\n",
        "print(image_test.dtype)\n",
        "print(image_test[100][100])\n",
        "print(label_test.dtype)\n",
        "print(label_test[100][100])\n",
        "plt.imshow(image_test)\n",
        "plt.show()\n",
        "plt.imshow(label_test)\n",
        "plt.show()\n",
        "image_test, label_test = next(val_gen)\n",
        "image_test, label_test = image_test[0], label_test[0]\n",
        "print(image_test.dtype)\n",
        "print(image_test[100][100])\n",
        "print(label_test.dtype)\n",
        "print(label_test[100][100])\n",
        "plt.imshow(image_test)\n",
        "plt.show()\n",
        "plt.imshow(label_test)\n",
        "plt.show()"
      ],
      "execution_count": 0,
      "outputs": []
    },
    {
      "cell_type": "code",
      "metadata": {
        "id": "Msq4ESfBVoKK",
        "colab_type": "code",
        "colab": {}
      },
      "source": [
        "def flatten_image(predicted):\n",
        "  flat_predicted = np.zeros(predicted.shape)\n",
        "  for i in range(len(flat_predicted)):\n",
        "    for j in range(len(flat_predicted[0])):\n",
        "      flat_predicted[i,j,np.argmax(predicted[i,j])] = 1. \n",
        "  return flat_predicted"
      ],
      "execution_count": 0,
      "outputs": []
    },
    {
      "cell_type": "code",
      "metadata": {
        "id": "eMKLlV8hVypW",
        "colab_type": "code",
        "colab": {}
      },
      "source": [
        "def show_prediction(image_batch, label_batch, model, i=0):\n",
        "  image, label = image_batch[i], label_batch[i]\n",
        "  predicted = model.predict(image_batch)[i]\n",
        "\n",
        "  # Show real image and label, then predicted one\n",
        "  plt.imshow(image)\n",
        "  plt.show()\n",
        "  plt.imshow(label)\n",
        "  plt.show()\n",
        "\n",
        "  # Flatten prediction\n",
        "  flat_predicted = flatten_image(predicted)\n",
        "  plt.imshow(flat_predicted)\n",
        "  plt.show()"
      ],
      "execution_count": 0,
      "outputs": []
    },
    {
      "cell_type": "code",
      "metadata": {
        "id": "dyZ5QwhMVgq1",
        "colab_type": "code",
        "colab": {}
      },
      "source": [
        "def weighted_categorical_crossentropy(weights):\n",
        "    \"\"\"\n",
        "    A weighted version of keras.objectives.categorical_crossentropy\n",
        "    @url: https://gist.github.com/wassname/ce364fddfc8a025bfab4348cf5de852d\n",
        "    @author: wassname\n",
        "\n",
        "    Variables:\n",
        "        weights: numpy array of shape (C,) where C is the number of classes\n",
        "    \n",
        "    Usage:\n",
        "        weights = np.array([0.5,2,10]) # Class one at 0.5, class 2 twice the normal weights, class 3 10x.\n",
        "        loss = weighted_categorical_crossentropy(weights)\n",
        "        model.compile(loss=loss,optimizer='adam')\n",
        "    \"\"\"\n",
        "    \n",
        "    weights = K.variable(weights)\n",
        "        \n",
        "    def loss(y_true, y_pred):\n",
        "        # scale predictions so that the class probas of each sample sum to 1\n",
        "        y_pred /= K.sum(y_pred, axis=-1, keepdims=True)\n",
        "        # clip to prevent NaN's and Inf's\n",
        "        y_pred = K.clip(y_pred, K.epsilon(), 1 - K.epsilon())\n",
        "        # calc\n",
        "        loss = y_true * K.log(y_pred) * weights\n",
        "        loss = -K.sum(loss, -1)\n",
        "        return loss\n",
        "    \n",
        "    return loss"
      ],
      "execution_count": 0,
      "outputs": []
    },
    {
      "cell_type": "code",
      "metadata": {
        "id": "gNkxtn01zccq",
        "colab_type": "code",
        "colab": {}
      },
      "source": [
        "def iou(y_true, y_pred, label: int):\n",
        "    \"\"\"\n",
        "    Return the Intersection over Union (IoU) for a given label.\n",
        "    @url: https://gist.github.com/Kautenja/69d306c587ccdf464c45d28c1545e580\n",
        "    Args:\n",
        "        y_true: the expected y values as a one-hot\n",
        "        y_pred: the predicted y values as a one-hot or softmax output\n",
        "        label: the label to return the IoU for\n",
        "    Returns:\n",
        "        the IoU for the given label\n",
        "    \"\"\"\n",
        "    # extract the label values using the argmax operator then\n",
        "    # calculate equality of the predictions and truths to the label\n",
        "    y_true = K.cast(K.equal(K.argmax(y_true), label), K.floatx())\n",
        "    y_pred = K.cast(K.equal(K.argmax(y_pred), label), K.floatx())\n",
        "    # calculate the |intersection| (AND) of the labels\n",
        "    intersection = K.sum(y_true * y_pred)\n",
        "    # calculate the |union| (OR) of the labels\n",
        "    union = K.sum(y_true) + K.sum(y_pred) - intersection\n",
        "    # avoid divide by zero - if the union is zero, return 1\n",
        "    # otherwise, return the intersection over union\n",
        "    return K.switch(K.equal(union, 0), 1.0, intersection / union)\n",
        "  \n",
        "def mean_iou(y_true, y_pred):\n",
        "    \"\"\"\n",
        "    Return the Intersection over Union (IoU) score.\n",
        "    Args:\n",
        "        y_true: the expected y values as a one-hot\n",
        "        y_pred: the predicted y values as a one-hot or softmax output\n",
        "    Returns:\n",
        "        the scalar IoU value (mean over all labels)\n",
        "    \"\"\"\n",
        "    # get number of labels to calculate IoU for\n",
        "    num_labels = K.int_shape(y_pred)[-1]\n",
        "    # initialize a variable to store total IoU in\n",
        "    total_iou = K.variable(0)\n",
        "    # iterate over labels to calculate IoU for\n",
        "    for label in range(num_labels):\n",
        "        total_iou = total_iou + iou(y_true, y_pred, label)\n",
        "    # divide total IoU by number of labels to get mean IoU\n",
        "    return total_iou / num_labels"
      ],
      "execution_count": 0,
      "outputs": []
    },
    {
      "cell_type": "code",
      "metadata": {
        "id": "D6QuWNDgT7Ar",
        "colab_type": "code",
        "colab": {}
      },
      "source": [
        "# Experimental custom loss function for unbalanced segmentation\n",
        "def dice_coef_loss(y_true, y_pred, smooth=1.0):\n",
        "    y_true_f = K.flatten(y_true)\n",
        "    y_pred_f = K.flatten(y_pred)\n",
        "    intersection = K.sum(y_true_f * y_pred_f)\n",
        "    return 1 - (2. * intersection + smooth) / (K.sum(y_true_f) + K.sum(y_pred_f) + smooth)\n",
        "  \n",
        "# Lets test it\n",
        "# Take a random label\n",
        "label = labels[0]\n",
        "\n",
        "# given the label as prediction, loss should be 0\n",
        "print(f\"Should be almost 0: {K.eval(dice_coef_loss(label, label))}\")\n",
        "\n",
        "# Doing a few random modifications should give a small loss\n",
        "pred = np.array(label)\n",
        "pred[100,100] = [0.5, 0.5, 0.]\n",
        "pred[105,105] = [0.5, 0., 0.5]\n",
        "pred[110,110] = [0.4, 0.5, 0.1]\n",
        "pred[115,115] = [0.5, 0.5, 0.]\n",
        "pred[120,120] = [0.5, 0.5, 0.]\n",
        "print(f\"Should be close to 0: {K.eval(dice_coef_loss(label, pred))}\")\n",
        "\n",
        "# taking a completely different label as prediction should give a high loss\n",
        "label2 = labels[44]\n",
        "print(f\"Should be high: {K.eval(dice_coef_loss(label, label2))}\")\n",
        "\n",
        "# taking a real prediction from a trained model\n",
        "pred = model.predict(images[:1])[0]\n",
        "print(K.eval(dice_coef_loss(label, pred)))"
      ],
      "execution_count": 0,
      "outputs": []
    },
    {
      "cell_type": "code",
      "metadata": {
        "id": "MT7PAO_bnx0s",
        "colab_type": "code",
        "colab": {}
      },
      "source": [
        "model = unet_model.unet(input_size=(160,240,3), activation='relu')\n",
        "#plot_model(model, to_file=\"model.png\")"
      ],
      "execution_count": 0,
      "outputs": []
    },
    {
      "cell_type": "code",
      "metadata": {
        "id": "imppX0AzyEHg",
        "colab_type": "code",
        "colab": {}
      },
      "source": [
        "checkpoint = ModelCheckpoint(folder + 'unet_checkpoint.hdf5', \n",
        "                             monitor='val_mean_iou',\n",
        "                             verbose=1, \n",
        "                             save_best_only=True)"
      ],
      "execution_count": 0,
      "outputs": []
    },
    {
      "cell_type": "code",
      "metadata": {
        "id": "gWKV2TQWVA1v",
        "colab_type": "code",
        "colab": {}
      },
      "source": [
        "# Compile using experimental custom loss \n",
        "#model.compile(optimizer = Adam(lr = 2e-4), loss = dice_coef_loss, metrics = ['accuracy'])"
      ],
      "execution_count": 0,
      "outputs": []
    },
    {
      "cell_type": "code",
      "metadata": {
        "id": "xagy3zecLMiG",
        "colab_type": "code",
        "colab": {}
      },
      "source": [
        "# Compile using crossentropy\n",
        "model.compile(optimizer = Adam(lr = 2e-4), loss = \"categorical_crossentropy\", metrics = ['categorical_accuracy'])"
      ],
      "execution_count": 0,
      "outputs": []
    },
    {
      "cell_type": "code",
      "metadata": {
        "id": "FKwRxwE6f9iZ",
        "colab_type": "code",
        "colab": {}
      },
      "source": [
        "# Load model weights\n",
        "# model.load_weights(folder + 'best_unet.hdf5')"
      ],
      "execution_count": 0,
      "outputs": []
    },
    {
      "cell_type": "code",
      "metadata": {
        "id": "_elsiMSoWFJV",
        "colab_type": "code",
        "colab": {}
      },
      "source": [
        "# Train the model\n",
        "\n",
        "model.compile(optimizer = Adam(lr = 1e-4), \n",
        "              loss = weighted_categorical_crossentropy([2,2,2]), \n",
        "              metrics = [categorical_accuracy, mean_iou])\n",
        "\n",
        "history = model.fit_generator(train_gen,\n",
        "                          validation_data = val_gen,\n",
        "                          validation_steps = num_val_steps,\n",
        "                          steps_per_epoch = num_train_steps,\n",
        "                          epochs = 50,\n",
        "                          callbacks = [checkpoint],\n",
        "                          )"
      ],
      "execution_count": 0,
      "outputs": []
    },
    {
      "cell_type": "code",
      "metadata": {
        "id": "nVHhgs3IYCRf",
        "colab_type": "code",
        "colab": {}
      },
      "source": [
        "# Plot history \n",
        "plot_history(history, 'mean_iou')\n",
        "# Show prediction over some val images\n",
        "image_batch, label_batch = next(val_gen)\n",
        "image, label = image_batch[0], label_batch[0]\n",
        "show_prediction(image_batch, label_batch, model)"
      ],
      "execution_count": 0,
      "outputs": []
    },
    {
      "cell_type": "code",
      "metadata": {
        "id": "JH7QH2QoWBrD",
        "colab_type": "code",
        "colab": {}
      },
      "source": [
        "# model.save(folder + 'best_unet.hdf5')"
      ],
      "execution_count": 0,
      "outputs": []
    },
    {
      "cell_type": "code",
      "metadata": {
        "id": "lSgaVt-6dEck",
        "colab_type": "code",
        "colab": {}
      },
      "source": [
        "results = model.evaluate(images_test, labels_test)\n",
        "print(model.metrics_names)\n",
        "print(results)"
      ],
      "execution_count": 0,
      "outputs": []
    },
    {
      "cell_type": "code",
      "metadata": {
        "id": "L7Wvme5-eNKa",
        "colab_type": "code",
        "colab": {}
      },
      "source": [
        "# Have a look at test image performance\n",
        "i = 9\n",
        "predicted = model.predict(images_test)[i]\n",
        "# Show real image and label, then predicted one\n",
        "show_prediction(images_test, labels_test, model, i=i)"
      ],
      "execution_count": 0,
      "outputs": []
    },
    {
      "cell_type": "code",
      "metadata": {
        "id": "6JIKqvt2WnWk",
        "colab_type": "code",
        "colab": {}
      },
      "source": [
        "# # Test different learning rates\n",
        "# histories = []\n",
        "# labels = []\n",
        "# models = []\n",
        "# for lr in (1e-4, 5e-4, 1e-3):\n",
        "#   model = unet_model.unet(input_size=(160,240,3))\n",
        "#   model.compile(optimizer = Adam(lr = lr), loss = \"categorical_crossentropy\", metrics = ['categorical_accuracy'])\n",
        "#   history = model.fit_generator(train_gen,\n",
        "#                             validation_data = val_gen,\n",
        "#                             validation_steps = num_val_steps,\n",
        "#                             steps_per_epoch = num_train_steps,\n",
        "#                             epochs = 50\n",
        "#                             )\n",
        "#   histories.append(history)\n",
        "#   labels.append(str(lr))\n",
        "#   models.append(model)"
      ],
      "execution_count": 0,
      "outputs": []
    },
    {
      "cell_type": "code",
      "metadata": {
        "id": "IIJv_x_0WwAf",
        "colab_type": "code",
        "colab": {}
      },
      "source": [
        "# plot_history_comparison(histories, labels)"
      ],
      "execution_count": 0,
      "outputs": []
    }
  ]
}