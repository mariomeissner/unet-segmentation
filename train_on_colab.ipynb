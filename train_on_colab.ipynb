{
  "nbformat": 4,
  "nbformat_minor": 0,
  "metadata": {
    "colab": {
      "name": "unet_segmentation.ipynb",
      "version": "0.3.2",
      "provenance": [],
      "collapsed_sections": []
    },
    "kernelspec": {
      "name": "python3",
      "display_name": "Python 3"
    },
    "accelerator": "GPU"
  },
  "cells": [
    {
      "metadata": {
        "id": "sd8qMv3j8iwT",
        "colab_type": "code",
        "colab": {}
      },
      "cell_type": "code",
      "source": [
        "#!apt-get install graphviz\n",
        "#!pip install graphviz pydot\n",
        "!pip install imageio\n",
        "!git clone https://github.com/mariomeissner/unet-segmentation.git ./unet"
      ],
      "execution_count": 0,
      "outputs": []
    },
    {
      "metadata": {
        "id": "Gh5zY9WR1P03",
        "colab_type": "code",
        "colab": {}
      },
      "cell_type": "code",
      "source": [
        "# Imports \n",
        "import numpy as np \n",
        "import os\n",
        "import skimage.transform as trans\n",
        "import matplotlib.pyplot as plt\n",
        "import unet.model as unet_model\n",
        "from keras.models import *\n",
        "from keras.layers import *\n",
        "from keras.optimizers import *\n",
        "from keras.callbacks import ModelCheckpoint, LearningRateScheduler\n",
        "from keras.preprocessing.image import ImageDataGenerator\n",
        "from keras import backend\n",
        "from keras.utils import plot_model\n",
        "from imageio import imread, imwrite\n",
        "from skimage import transform"
      ],
      "execution_count": 0,
      "outputs": []
    },
    {
      "metadata": {
        "id": "Sw_EeXgmhVCo",
        "colab_type": "code",
        "colab": {}
      },
      "cell_type": "code",
      "source": [
        "USE_DRIVE = True\n",
        "if(USE_DRIVE):\n",
        "    from google.colab import drive\n",
        "    folder = '/content/gdrive/My Drive/Projects/datasets/steven2358-larynx_data/'\n",
        "    drive.mount('/content/gdrive')\n",
        "else:\n",
        "    folder = 'your/local/dataset/folder/here'"
      ],
      "execution_count": 0,
      "outputs": []
    },
    {
      "metadata": {
        "id": "Tcs5pZF8-bAX",
        "colab_type": "code",
        "colab": {}
      },
      "cell_type": "code",
      "source": [
        "def plot_metrics(history):\n",
        "  # summarize history for accuracy\n",
        "  plt.plot(history.history['acc'])\n",
        "  #plt.plot(history.history['val_acc'])\n",
        "  plt.title('model accuracy')\n",
        "  plt.ylabel('accuracy')\n",
        "  plt.xlabel('epoch')\n",
        "  #plt.legend(['train', 'test'], loc='upper left')\n",
        "  plt.show()\n",
        "  # summarize history for loss\n",
        "  plt.plot(history.history['loss'])\n",
        "  #plt.plot(history.history['val_loss'])\n",
        "  plt.title('model loss')\n",
        "  plt.ylabel('loss')\n",
        "  plt.xlabel('epoch')\n",
        "  #plt.legend(['train', 'test'], loc='upper left')\n",
        "  plt.show()"
      ],
      "execution_count": 0,
      "outputs": []
    },
    {
      "metadata": {
        "id": "HtdaK9zTw5kd",
        "colab_type": "code",
        "colab": {}
      },
      "cell_type": "code",
      "source": [
        "images = np.zeros((154,160,240,3), dtype=np.float32)\n",
        "for i,filename in enumerate(sorted(os.listdir(folder + 'images_cropped/images/'))):\n",
        "  images[i,:,:,:] = imread(folder + 'images_cropped/images/' + filename, pilmode='RGB')\n",
        "print(\"loaded images\")\n",
        "images = images / 255\n",
        "print(images.shape)\n",
        "\n",
        "labels = np.zeros((154,160,240,3), dtype=np.float32)\n",
        "for i,filename in enumerate(sorted(os.listdir(folder + 'labels_cropped/labels/'))):\n",
        "  labels[i,:,:,:] = imread(folder + 'labels_cropped/labels/' + filename, pilmode='RGB')\n",
        "print(\"loaded labels\")\n",
        "labels = labels / 255\n",
        "print(labels.shape)"
      ],
      "execution_count": 0,
      "outputs": []
    },
    {
      "metadata": {
        "id": "6dqVQMlK17q6",
        "colab_type": "code",
        "colab": {}
      },
      "cell_type": "code",
      "source": [
        "# Have a peak at what they look like\n",
        "print(images[3][100][120:140])\n",
        "print(labels[3][100][120:140])"
      ],
      "execution_count": 0,
      "outputs": []
    },
    {
      "metadata": {
        "id": "ZmXhOMuJ4LH8",
        "colab_type": "code",
        "colab": {}
      },
      "cell_type": "code",
      "source": [
        "# Data augmentation\n",
        "\n",
        "data_gen_args = dict(\n",
        "    rotation_range = 5,\n",
        "    width_shift_range = 5,\n",
        "    height_shift_range = 5,\n",
        "    horizontal_flip = True,\n",
        "    zoom_range = 0.05,\n",
        "    data_format = 'channels_last',\n",
        "    #validation_split = 0.2,\n",
        ")\n",
        "\n",
        "image_datagen = ImageDataGenerator(**data_gen_args)\n",
        "label_datagen = ImageDataGenerator(**data_gen_args)\n"
      ],
      "execution_count": 0,
      "outputs": []
    },
    {
      "metadata": {
        "id": "pMk8UX2xfKCj",
        "colab_type": "code",
        "colab": {}
      },
      "cell_type": "code",
      "source": [
        "image_gen = image_datagen.flow(images, seed = 1, batch_size=8, shuffle=True)\n",
        "label_gen = label_datagen.flow(labels, seed = 1, batch_size=8, shuffle=True)\n",
        "train_gen = zip(image_gen, label_gen)"
      ],
      "execution_count": 0,
      "outputs": []
    },
    {
      "metadata": {
        "id": "WZBpYgxX5BvQ",
        "colab_type": "code",
        "colab": {}
      },
      "cell_type": "code",
      "source": [
        "# Check that original images and labels match up\n",
        "position = 55\n",
        "plt.imshow(images[position])\n",
        "plt.show()\n",
        "plt.imshow(labels[position])\n",
        "plt.show()"
      ],
      "execution_count": 0,
      "outputs": []
    },
    {
      "metadata": {
        "id": "J_-Xr4Ae-0nt",
        "colab_type": "code",
        "colab": {}
      },
      "cell_type": "code",
      "source": [
        "# Check that augmented images and labels match up\n",
        "image_test, label_test = next(train_gen)\n",
        "image_test, label_test = image_test, label_test\n",
        "print(image_test[0].dtype)\n",
        "print(image_test[0][100][100])\n",
        "print(label_test[0].dtype)\n",
        "print(label_test[0][100][100])\n",
        "plt.imshow(image_test[0])\n",
        "plt.show()\n",
        "plt.imshow(label_test[0])\n",
        "plt.show()"
      ],
      "execution_count": 0,
      "outputs": []
    },
    {
      "metadata": {
        "id": "imppX0AzyEHg",
        "colab_type": "code",
        "colab": {}
      },
      "cell_type": "code",
      "source": [
        "checkpoint = ModelCheckpoint(folder + 'unet_checkpoint.hdf5', \n",
        "                             monitor='accuracy',\n",
        "                             verbose=1, \n",
        "                             save_best_only=True)"
      ],
      "execution_count": 0,
      "outputs": []
    },
    {
      "metadata": {
        "id": "MY_4FQFNyoqw",
        "colab_type": "code",
        "colab": {}
      },
      "cell_type": "code",
      "source": [
        "model = unet_model.unet(input_size=(160,240,3))\n",
        "#plot_model(model, to_file=\"model.png\")"
      ],
      "execution_count": 0,
      "outputs": []
    },
    {
      "metadata": {
        "id": "gWKV2TQWVA1v",
        "colab_type": "code",
        "colab": {}
      },
      "cell_type": "code",
      "source": [
        "model.compile(optimizer = Adam(lr = 2e-4), loss = 'categorical_crossentropy', metrics = ['accuracy'])"
      ],
      "execution_count": 0,
      "outputs": []
    },
    {
      "metadata": {
        "id": "JH7QH2QoWBrD",
        "colab_type": "code",
        "colab": {}
      },
      "cell_type": "code",
      "source": [
        "#model.save(folder + 'unet.hdf5')"
      ],
      "execution_count": 0,
      "outputs": []
    },
    {
      "metadata": {
        "id": "MT7PAO_bnx0s",
        "colab_type": "code",
        "colab": {}
      },
      "cell_type": "code",
      "source": [
        "# Train and periodically check how well we are doing.\n",
        "loops = 5\n",
        "for _ in range(loops):\n",
        "  history = model.fit_generator(train_gen, \n",
        "                              steps_per_epoch=154//8,\n",
        "                              epochs = 10,\n",
        "                              callbacks = [checkpoint],\n",
        "                              )\n",
        "  image_batch, label_batch = next(train_gen)\n",
        "  image, label = image_batch[0], label_batch[0]\n",
        "  predicted = model.predict(image_batch)[0]\n",
        "  # Show real image and label, then predicted one\n",
        "  print(predicted[100][120:140])\n",
        "  plt.imshow(image)\n",
        "  plt.show()\n",
        "  plt.imshow(label)\n",
        "  plt.show()\n",
        "  plt.imshow(predicted)\n",
        "  plt.show()\n",
        "  # Flatten prediction\n",
        "  flat_predicted = np.zeros(predicted.shape)\n",
        "  for i in range(len(flat_predicted)):\n",
        "    for j in range(len(flat_predicted[0])):\n",
        "      flat_predicted[i,j,np.argmax(predicted[i,j])] = 1. \n",
        "  plt.imshow(flat_predicted)\n",
        "  plt.show()"
      ],
      "execution_count": 0,
      "outputs": []
    }
  ]
}