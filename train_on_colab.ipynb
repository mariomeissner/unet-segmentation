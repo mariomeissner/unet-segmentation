{
  "nbformat": 4,
  "nbformat_minor": 0,
  "metadata": {
    "colab": {
      "name": "unet_segmentation.ipynb",
      "version": "0.3.2",
      "provenance": [],
      "collapsed_sections": []
    },
    "kernelspec": {
      "name": "python3",
      "display_name": "Python 3"
    },
    "accelerator": "GPU"
  },
  "cells": [
    {
      "metadata": {
        "id": "sd8qMv3j8iwT",
        "colab_type": "code",
        "colab": {}
      },
      "cell_type": "code",
      "source": [
        "# Installation of dependencies \n",
        "!pip install imageio\n",
        "!pip install -U tensorboardcolab\n",
        "!git clone https://github.com/mariomeissner/unet-segmentation.git ./unet\n",
        "\n",
        "# Optinal for graph plotting\n",
        "#!apt-get install graphviz\n",
        "#!pip install graphviz pydot\n"
      ],
      "execution_count": 0,
      "outputs": []
    },
    {
      "metadata": {
        "id": "Gh5zY9WR1P03",
        "colab_type": "code",
        "colab": {}
      },
      "cell_type": "code",
      "source": [
        "# Imports \n",
        "import numpy as np \n",
        "import os\n",
        "import skimage.transform as trans\n",
        "import matplotlib.pyplot as plt\n",
        "import unet.model as unet_model\n",
        "from keras.models import *\n",
        "from keras.layers import *\n",
        "from keras.optimizers import *\n",
        "from keras.callbacks import ModelCheckpoint, LearningRateScheduler\n",
        "from keras.preprocessing.image import ImageDataGenerator\n",
        "from tensorboardcolab import TensorBoardColab, TensorBoardColabCallback\n",
        "from keras import backend\n",
        "from keras.utils import plot_model\n",
        "from imageio import imread, imwrite\n",
        "from skimage import transform"
      ],
      "execution_count": 0,
      "outputs": []
    },
    {
      "metadata": {
        "id": "Sw_EeXgmhVCo",
        "colab_type": "code",
        "colab": {}
      },
      "cell_type": "code",
      "source": [
        "USE_DRIVE = True\n",
        "if(USE_DRIVE):\n",
        "    from google.colab import drive\n",
        "    folder = '/content/gdrive/My Drive/Projects/datasets/steven2358-larynx_data/'\n",
        "    drive.mount('/content/gdrive')\n",
        "else:\n",
        "    folder = 'your/local/dataset/folder/here'\n",
        "    \n",
        "# Hyperparameters\n",
        "num_images = 154"
      ],
      "execution_count": 0,
      "outputs": []
    },
    {
      "metadata": {
        "id": "6YMcPZZtXIDI",
        "colab_type": "code",
        "colab": {}
      },
      "cell_type": "code",
      "source": [
        "# Function for plotting model history\n",
        "def plot_history(history):\n",
        "  plt.plot(history.history['categorical_accuracy'])\n",
        "  plt.plot(history.history['val_categorical_accuracy'])\n",
        "  plt.title('model accuracy')\n",
        "  plt.ylabel('accuracy')\n",
        "  plt.xlabel('epoch')\n",
        "  plt.legend(['train', 'validation'], loc='upper left')\n",
        "  plt.show()\n",
        "  # summarize history for loss\n",
        "  plt.plot(history.history['loss'])\n",
        "  plt.plot(history.history['val_loss'])\n",
        "  plt.title('model loss')\n",
        "  plt.ylabel('loss')\n",
        "  plt.xlabel('epoch')\n",
        "  plt.legend(['train', 'validation'], loc='upper left')"
      ],
      "execution_count": 0,
      "outputs": []
    },
    {
      "metadata": {
        "id": "HtdaK9zTw5kd",
        "colab_type": "code",
        "colab": {}
      },
      "cell_type": "code",
      "source": [
        "images = np.zeros((154,160,240,3), dtype=np.float32)\n",
        "for i,filename in enumerate(sorted(os.listdir(folder + 'images_cropped/images/'))):\n",
        "  images[i,:,:,:] = imread(folder + 'images_cropped/images/' + filename, pilmode='RGB')\n",
        "print(\"loaded images\")\n",
        "images = images / 255\n",
        "print(images.shape)\n",
        "\n",
        "labels = np.zeros((154,160,240,3), dtype=np.float32)\n",
        "for i,filename in enumerate(sorted(os.listdir(folder + 'labels_cropped/labels/'))):\n",
        "  labels[i,:,:,:] = imread(folder + 'labels_cropped/labels/' + filename, pilmode='RGB')\n",
        "print(\"loaded labels\")\n",
        "labels = labels / 255\n",
        "print(labels.shape)"
      ],
      "execution_count": 0,
      "outputs": []
    },
    {
      "metadata": {
        "id": "6dqVQMlK17q6",
        "colab_type": "code",
        "colab": {}
      },
      "cell_type": "code",
      "source": [
        "# Have a peak at what they look like\n",
        "print(images[3][100][120:140])\n",
        "print(labels[3][100][120:140])"
      ],
      "execution_count": 0,
      "outputs": []
    },
    {
      "metadata": {
        "id": "aq1MrPKNEIzX",
        "colab_type": "code",
        "colab": {}
      },
      "cell_type": "code",
      "source": [
        "# Shuffle images and labels and create test split\n",
        "num_test_images = 15\n",
        "num_val_images = 10\n",
        "rng_state = np.random.get_state()\n",
        "np.random.shuffle(images)\n",
        "np.random.set_state(rng_state)\n",
        "np.random.shuffle(labels)\n",
        "images_test = images[:num_test_images]\n",
        "labels_test = labels[:num_test_images]\n",
        "images_val = images[:-num_val_images]\n",
        "labels_val = labels[:-num_val_images]\n",
        "images = images[num_test_images:-num_val_images]\n",
        "labels = labels[num_test_images:-num_val_images]\n",
        "num_train_steps = len(images_test)\n",
        "num_val_steps = len(images_val)"
      ],
      "execution_count": 0,
      "outputs": []
    },
    {
      "metadata": {
        "id": "ZmXhOMuJ4LH8",
        "colab_type": "code",
        "colab": {}
      },
      "cell_type": "code",
      "source": [
        "# Data augmentation\n",
        "\n",
        "data_gen_args = dict(\n",
        "    rotation_range = 5,\n",
        "    width_shift_range = 5,\n",
        "    height_shift_range = 5,\n",
        "    horizontal_flip = True,\n",
        "    zoom_range = 0.05,\n",
        "    data_format = 'channels_last',\n",
        ")\n",
        "\n",
        "image_datagen = ImageDataGenerator(**data_gen_args)\n",
        "label_datagen = ImageDataGenerator(**data_gen_args)\n"
      ],
      "execution_count": 0,
      "outputs": []
    },
    {
      "metadata": {
        "id": "pMk8UX2xfKCj",
        "colab_type": "code",
        "colab": {}
      },
      "cell_type": "code",
      "source": [
        "batch_size = 8\n",
        "image_gen = image_datagen.flow(images, seed = 1, batch_size=batch_size, shuffle=True)\n",
        "label_gen = label_datagen.flow(labels, seed = 1, batch_size=batch_size, shuffle=True)\n",
        "image_val = image_datagen.flow(images_val, seed = 1, batch_size=batch_size, shuffle=True)\n",
        "label_val = label_datagen.flow(labels_val, seed = 1, batch_size=batch_size, shuffle=True)\n",
        "train_gen = zip(image_gen, label_gen)\n",
        "val_gen = zip(image_val, label_val)"
      ],
      "execution_count": 0,
      "outputs": []
    },
    {
      "metadata": {
        "id": "WZBpYgxX5BvQ",
        "colab_type": "code",
        "colab": {}
      },
      "cell_type": "code",
      "source": [
        "# Check that original images and labels match up\n",
        "position = 55\n",
        "plt.imshow(images[position])\n",
        "plt.show()\n",
        "plt.imshow(labels[position])\n",
        "plt.show()"
      ],
      "execution_count": 0,
      "outputs": []
    },
    {
      "metadata": {
        "id": "J_-Xr4Ae-0nt",
        "colab_type": "code",
        "colab": {}
      },
      "cell_type": "code",
      "source": [
        "# Check that augmented images and labels match up\n",
        "image_test, label_test = next(train_gen)\n",
        "image_test, label_test = image_test[0], label_test[0]\n",
        "print(image_test.dtype)\n",
        "print(image_test[100][100])\n",
        "print(label_test.dtype)\n",
        "print(label_test[100][100])\n",
        "plt.imshow(image_test)\n",
        "plt.show()\n",
        "plt.imshow(label_test)\n",
        "plt.show()\n",
        "image_test, label_test = next(val_gen)\n",
        "image_test, label_test = image_test[0], label_test[0]\n",
        "print(image_test.dtype)\n",
        "print(image_test[100][100])\n",
        "print(label_test.dtype)\n",
        "print(label_test[100][100])\n",
        "plt.imshow(image_test)\n",
        "plt.show()\n",
        "plt.imshow(label_test)\n",
        "plt.show()"
      ],
      "execution_count": 0,
      "outputs": []
    },
    {
      "metadata": {
        "id": "imppX0AzyEHg",
        "colab_type": "code",
        "colab": {}
      },
      "cell_type": "code",
      "source": [
        "checkpoint = ModelCheckpoint(folder + 'unet_checkpoint.hdf5', \n",
        "                             monitor='val_acc',\n",
        "                             verbose=1, \n",
        "                             save_best_only=True)"
      ],
      "execution_count": 0,
      "outputs": []
    },
    {
      "metadata": {
        "id": "MY_4FQFNyoqw",
        "colab_type": "code",
        "colab": {}
      },
      "cell_type": "code",
      "source": [
        "model = unet_model.unet(input_size=(160,240,3))\n",
        "#plot_model(model, to_file=\"model.png\")"
      ],
      "execution_count": 0,
      "outputs": []
    },
    {
      "metadata": {
        "id": "D6QuWNDgT7Ar",
        "colab_type": "code",
        "colab": {}
      },
      "cell_type": "code",
      "source": [
        "# Experimental custom loss function for unbalanced segmentation\n",
        "def dice_coef_loss(y_true, y_pred, smooth=1.0):\n",
        "    y_true_f = K.flatten(y_true)\n",
        "    y_pred_f = K.flatten(y_pred)\n",
        "    intersection = K.sum(y_true_f * y_pred_f)\n",
        "    return 1 - (2. * intersection + smooth) / (K.sum(y_true_f) + K.sum(y_pred_f) + smooth)\n",
        "  \n",
        "# Lets test it\n",
        "# Take a random label\n",
        "label = labels[0]\n",
        "\n",
        "# given the label as prediction, loss should be 0\n",
        "print(f\"Should be almost 0: {K.eval(dice_coef_loss(label, label))}\")\n",
        "\n",
        "# Doing a few random modifications should give a small loss\n",
        "pred = np.array(label)\n",
        "pred[100,100] = [0.5, 0.5, 0.]\n",
        "pred[105,105] = [0.5, 0., 0.5]\n",
        "pred[110,110] = [0.4, 0.5, 0.1]\n",
        "pred[115,115] = [0.5, 0.5, 0.]\n",
        "pred[120,120] = [0.5, 0.5, 0.]\n",
        "print(f\"Should be close to 0: {K.eval(dice_coef_loss(label, pred))}\")\n",
        "\n",
        "# taking a completely different label as prediction should give a high loss\n",
        "label2 = labels[44]\n",
        "print(f\"Should be high: {K.eval(dice_coef_loss(label, label2))}\")\n",
        "\n",
        "# taking a real prediction from a trained model\n",
        "pred = model.predict(images[:1])[0]\n",
        "print(K.eval(dice_coef_loss(label, pred)))"
      ],
      "execution_count": 0,
      "outputs": []
    },
    {
      "metadata": {
        "id": "gWKV2TQWVA1v",
        "colab_type": "code",
        "colab": {}
      },
      "cell_type": "code",
      "source": [
        "# Compile using experimental custom loss \n",
        "#model.compile(optimizer = Adam(lr = 2e-4), loss = dice_coef_loss, metrics = ['accuracy'])"
      ],
      "execution_count": 0,
      "outputs": []
    },
    {
      "metadata": {
        "id": "xagy3zecLMiG",
        "colab_type": "code",
        "colab": {}
      },
      "cell_type": "code",
      "source": [
        "# Compile using crossentropy\n",
        "model.compile(optimizer = Adam(lr = 2e-4), loss = \"categorical_crossentropy\", metrics = ['categorical_accuracy'])"
      ],
      "execution_count": 0,
      "outputs": []
    },
    {
      "metadata": {
        "id": "dpd2NsA6GNcQ",
        "colab_type": "code",
        "colab": {}
      },
      "cell_type": "code",
      "source": [
        "# Tensorboard callback \n",
        "#tbc = TensorBoardColab()"
      ],
      "execution_count": 0,
      "outputs": []
    },
    {
      "metadata": {
        "id": "MT7PAO_bnx0s",
        "colab_type": "code",
        "colab": {}
      },
      "cell_type": "code",
      "source": [
        "# Train and periodically check how well we are doing.\n",
        "\n",
        "history = model.fit_generator(train_gen,\n",
        "                            validation_data = val_gen,\n",
        "                            validation_steps = num_val_steps,\n",
        "                            steps_per_epoch=num_train_steps,\n",
        "                            epochs = 5,\n",
        "                            callbacks = [\n",
        "                                checkpoint, \n",
        "                                #TensorBoardColabCallback(tbc),\n",
        "                            ],\n",
        "                            )\n",
        "image_batch, label_batch = next(train_gen)\n",
        "image, label = image_batch[0], label_batch[0]\n",
        "predicted = model.predict(image_batch)[0]\n",
        "\n",
        "# Show real image and label, then predicted one\n",
        "print(predicted[100][120:125])\n",
        "plt.imshow(image)\n",
        "plt.show()\n",
        "plt.imshow(label)\n",
        "plt.show()\n",
        "plt.imshow(predicted)\n",
        "plt.show()\n",
        "\n",
        "# Flatten prediction\n",
        "flat_predicted = np.zeros(predicted.shape)\n",
        "for i in range(len(flat_predicted)):\n",
        "  for j in range(len(flat_predicted[0])):\n",
        "    flat_predicted[i,j,np.argmax(predicted[i,j])] = 1. \n",
        "plt.imshow(flat_predicted)\n",
        "plt.show()\n",
        "\n",
        "# Show history plots\n",
        "plot_history(history)\n"
      ],
      "execution_count": 0,
      "outputs": []
    },
    {
      "metadata": {
        "id": "JH7QH2QoWBrD",
        "colab_type": "code",
        "colab": {}
      },
      "cell_type": "code",
      "source": [
        "model.save(folder + 'unet.hdf5')"
      ],
      "execution_count": 0,
      "outputs": []
    },
    {
      "metadata": {
        "id": "FKwRxwE6f9iZ",
        "colab_type": "code",
        "colab": {}
      },
      "cell_type": "code",
      "source": [
        "# Load model weights\n",
        "# model.load_weights(folder + 'unet.hdf5')"
      ],
      "execution_count": 0,
      "outputs": []
    },
    {
      "metadata": {
        "id": "-Io9ZGKjcZgz",
        "colab_type": "code",
        "colab": {}
      },
      "cell_type": "code",
      "source": [
        "results = model.evaluate(images_test, labels_test)"
      ],
      "execution_count": 0,
      "outputs": []
    },
    {
      "metadata": {
        "id": "lSgaVt-6dEck",
        "colab_type": "code",
        "colab": {}
      },
      "cell_type": "code",
      "source": [
        "print(model.metrics_names)\n",
        "print(results)"
      ],
      "execution_count": 0,
      "outputs": []
    },
    {
      "metadata": {
        "id": "L7Wvme5-eNKa",
        "colab_type": "code",
        "colab": {}
      },
      "cell_type": "code",
      "source": [
        "predicted = model.predict(images_test)[0]\n",
        "# Show real image and label, then predicted one\n",
        "plt.imshow(images_test[0])\n",
        "plt.show()\n",
        "plt.imshow(labels_test[0])\n",
        "plt.show()\n",
        "plt.imshow(predicted)\n",
        "plt.show()"
      ],
      "execution_count": 0,
      "outputs": []
    }
  ]
}